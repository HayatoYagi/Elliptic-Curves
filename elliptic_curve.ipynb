{
  "nbformat": 4,
  "nbformat_minor": 0,
  "metadata": {
    "colab": {
      "name": "elliptic_curve.ipynb",
      "provenance": [],
      "authorship_tag": "ABX9TyN4RS2EEjiy5iGREMecA/I2",
      "include_colab_link": true
    },
    "kernelspec": {
      "name": "python3",
      "display_name": "Python 3"
    },
    "language_info": {
      "name": "python"
    }
  },
  "cells": [
    {
      "cell_type": "markdown",
      "metadata": {
        "id": "view-in-github",
        "colab_type": "text"
      },
      "source": [
        "<a href=\"https://colab.research.google.com/github/HayatoYagi/Elliptic-Curves/blob/main/elliptic_curve.ipynb\" target=\"_parent\"><img src=\"https://colab.research.google.com/assets/colab-badge.svg\" alt=\"Open In Colab\"/></a>"
      ]
    },
    {
      "cell_type": "code",
      "execution_count": 23,
      "metadata": {
        "id": "LJYEUPIPhP_s"
      },
      "outputs": [],
      "source": [
        "import math\n",
        "\n",
        "def divisors(n):\n",
        "    res = []\n",
        "    i = 1\n",
        "    while(i * i < n):\n",
        "        if n % i == 0:\n",
        "            res.append(i)\n",
        "            res.append(n // i)\n",
        "        i += 1\n",
        "    if i * i == n:\n",
        "        res.append(i)\n",
        "    return res\n",
        "\n",
        "class EllipticCurve:\n",
        "    \"\"\"\n",
        "    y^2 = f(x) := x^3 + ax^2 + bx + c\n",
        "    \"\"\"\n",
        "    def __init__(self, a, b, c):\n",
        "        self._a = a\n",
        "        self._b = b\n",
        "        self._c = c\n",
        "        # todo: 非特異であることを確認する（実装ムズそう）\n",
        "    \n",
        "    def f(self, x):\n",
        "        return (x * x * x\n",
        "                + self._a * x * x\n",
        "                + self._b * x\n",
        "                + self._c)\n",
        "        \n",
        "    def f_prime(self, x):\n",
        "        return (3 * x * x\n",
        "                + 2 * self._a * x\n",
        "                + self._b)\n",
        "\n",
        "    def discriminant(self):\n",
        "        return (-4 * self._a * self._a * self._a * self._c\n",
        "                + self._a * self._a * self._b * self._b\n",
        "                + 18 * self._a * self._b * self._c\n",
        "                - 4 * self._b * self._b * self._b\n",
        "                - 27 * self._c * self._c)\n",
        "\n",
        "    def torsion_candidates(self):\n",
        "        \"\"\"\n",
        "        有限位数の有理点の候補を返す。\n",
        "        必要条件しか確認していないことに注意。\n",
        "        \"\"\"\n",
        "        def y_candidates():\n",
        "            res = [0]\n",
        "            D = self.discriminant()\n",
        "            assert(D < 0)\n",
        "            i = 1\n",
        "            while i * i <= -D:\n",
        "                if(-D % (i * i) == 0):\n",
        "                    res.append(i)\n",
        "                i += 1\n",
        "            return res\n",
        "\n",
        "        def find_x(y):\n",
        "            res = []\n",
        "            a = self._a\n",
        "            b = self._b\n",
        "            c = self._c - y * y\n",
        "            if c == 0:\n",
        "                res.append(0)\n",
        "                if b == 0:\n",
        "                    if(a != 0):\n",
        "                        res.append(-a)\n",
        "                else:\n",
        "                    for d in divisors(abs(b)):\n",
        "                        if(d * d + a * d + b == 0):\n",
        "                            res.append(d)\n",
        "                        if(d * d - a * d + b == 0):\n",
        "                            res.append(-d)\n",
        "            else:\n",
        "                for d in divisors(abs(c)):\n",
        "                    if(d * d * d + a * d * d + b * d + c == 0):\n",
        "                        res.append(d)\n",
        "                    if(- d * d * d + a * d * d - b * d + c == 0):\n",
        "                        res.append(-d)\n",
        "            return res\n",
        "\n",
        "        res = []\n",
        "        for y in y_candidates():\n",
        "            for x in find_x(y):\n",
        "                res.append((x,y))\n",
        "                if(y != 0):\n",
        "                    res.append((x,-y))\n",
        "        return res\n",
        "    \n",
        "    def double_x(self, x):\n",
        "        \"\"\"\n",
        "        入力された曲線上の整数点のx座標に対し、その点を2倍した点のx座標とそれが整数かどうかを返す。\n",
        "        \"\"\"\n",
        "        numer = (x * x * x * x\n",
        "                 - 2 * self._b * x * x\n",
        "                 - 8 * self._c * x\n",
        "                 + self._b * self._b\n",
        "                 - 4 * self._a * self._c)\n",
        "        denom = 4 * self.f(x)\n",
        "        return (numer / denom, numer % denom == 0)\n",
        "\n",
        "    def add(self, p1, p2):\n",
        "        if math.isinf(p1):\n",
        "            # todo\n",
        "            return -1\n",
        "        x1,y1 = p1\n",
        "        x2,y2 = p2\n",
        "        if x1 == x2:\n",
        "            if y1 == y2:\n",
        "                la = self.f_prime(x1) / 2 / y1\n",
        "                nu = y1 - la * x1\n",
        "                x3, _ = self.double_x(x1)\n",
        "                y3 = la * x3 + nu\n",
        "                return (x3, -y3)\n",
        "            else:\n",
        "                return math.inf\n",
        "        else:\n",
        "            la = (y2 - y1) / (x2 - x1) # lambda\n",
        "            nu = y1 - la * x1 # nu\n",
        "            x3 = la * la - self._a - x1 - x2\n",
        "            y3 = la * x3 + nu\n",
        "            return (x3, -y3)\n",
        "\n",
        "    def scalar_multiple(self, p, n:int):\n",
        "        assert(n >= 1)\n",
        "        if(n == 1):\n",
        "            return p\n",
        "        q = self.scalar_multiple(p, n // 2)\n",
        "        q = self.add(q, q)\n",
        "        if(n % 2 == 1):\n",
        "            q = self.add(q, p)\n",
        "        return q"
      ]
    },
    {
      "cell_type": "code",
      "source": [
        "e1 = EllipticCurve(0,-43,166)\n",
        "print(e1.torsion_candidates())\n",
        "e1.p1 = (3,8)\n",
        "e1.add(e1.p1, e1.p1)\n",
        "for i in range(1, 8):\n",
        "    print(i, e1.scalar_multiple(e1.p1, i))"
      ],
      "metadata": {
        "colab": {
          "base_uri": "https://localhost:8080/"
        },
        "id": "PxO49BMRjGUi",
        "outputId": "e39b5d9e-34e5-4ac6-95af-d47f1a5a81e3"
      },
      "execution_count": 30,
      "outputs": [
        {
          "output_type": "stream",
          "name": "stdout",
          "text": [
            "[(3, 8), (3, -8), (-5, 16), (-5, -16), (11, 32), (11, -32)]\n",
            "1 (3, 8)\n",
            "2 (-5.0, -16.0)\n",
            "3 (11.0, -32.0)\n",
            "4 (11.0, 32.0)\n",
            "5 (-5.0, 16.0)\n",
            "6 (3.0, -8.0)\n",
            "7 inf\n"
          ]
        }
      ]
    },
    {
      "cell_type": "code",
      "source": [
        "e2 = EllipticCurve(0,0,1)\n",
        "print(e2.torsion_candidates())\n",
        "print(e2.double_x(2))"
      ],
      "metadata": {
        "colab": {
          "base_uri": "https://localhost:8080/"
        },
        "id": "KmJb9ZiPK6ok",
        "outputId": "a13f85f0-bbfe-4331-e94b-2d617598398f"
      },
      "execution_count": 16,
      "outputs": [
        {
          "output_type": "stream",
          "name": "stdout",
          "text": [
            "0 [-1]\n",
            "1 [0]\n",
            "3 [2]\n",
            "[(-1, 0), (0, 1), (0, -1), (2, 3), (2, -3)]\n",
            "(0.0, True)\n"
          ]
        }
      ]
    },
    {
      "cell_type": "code",
      "source": [
        "e3 = EllipticCurve(0,0,4)\n",
        "print(e3.torsion_candidates())\n",
        "e3.p1 = (0,2)\n",
        "e3.p2 = (0,-2)\n",
        "print(e3.add(e3.p1, e3.p1))\n",
        "print(e3.add(e3.p1, e3.p2))\n",
        "for i in range(1,6):\n",
        "    print(i, e3.scalar_multiple(e3.p1, i))"
      ],
      "metadata": {
        "id": "HE01ia1H1UBU",
        "outputId": "33cc137e-d5cb-4f9b-bf61-47593b8cbd09",
        "colab": {
          "base_uri": "https://localhost:8080/"
        }
      },
      "execution_count": 27,
      "outputs": [
        {
          "output_type": "stream",
          "name": "stdout",
          "text": [
            "[(0, 2), (0, -2)]\n",
            "(0.0, -2.0)\n",
            "inf\n",
            "1 (0, 2)\n",
            "2 (0.0, -2.0)\n",
            "3 inf\n",
            "4 (0.0, 2.0)\n",
            "5 (0.0, -2.0)\n"
          ]
        }
      ]
    }
  ]
}