{
  "nbformat": 4,
  "nbformat_minor": 0,
  "metadata": {
    "colab": {
      "name": "elliptic_curve.ipynb",
      "provenance": [],
      "toc_visible": true,
      "authorship_tag": "ABX9TyOWlL99cxHCDTo1jJNFk5nJ",
      "include_colab_link": true
    },
    "kernelspec": {
      "name": "python3",
      "display_name": "Python 3"
    },
    "language_info": {
      "name": "python"
    }
  },
  "cells": [
    {
      "cell_type": "markdown",
      "metadata": {
        "id": "view-in-github",
        "colab_type": "text"
      },
      "source": [
        "<a href=\"https://colab.research.google.com/github/HayatoYagi/Elliptic-Curves/blob/main/elliptic_curve.ipynb\" target=\"_parent\"><img src=\"https://colab.research.google.com/assets/colab-badge.svg\" alt=\"Open In Colab\"/></a>"
      ]
    },
    {
      "cell_type": "code",
      "execution_count": 10,
      "metadata": {
        "id": "LJYEUPIPhP_s"
      },
      "outputs": [],
      "source": [
        "def divisors(n):\n",
        "  res = []\n",
        "  i = 1\n",
        "  while(i * i < n):\n",
        "    if n % i == 0:\n",
        "      res.append(i)\n",
        "      res.append(n // i)\n",
        "    i += 1\n",
        "  if i * i == n:\n",
        "    res.append(i)\n",
        "  return res\n",
        "\n",
        "class EllipticCurve:\n",
        "  def __init__(self, a, b, c):\n",
        "    self._a = a\n",
        "    self._b = b\n",
        "    self._c = c\n",
        "  \n",
        "  def discriminant(self):\n",
        "    return (-4 * self._a * self._a * self._a * self._c\n",
        "            + self._a * self._a * self._b * self._b\n",
        "            + 18 * self._a * self._b * self._c\n",
        "            - 4 * self._b * self._b * self._b\n",
        "            - 27 * self._c * self._c)\n",
        "  \n",
        "  def y_candidates(self):\n",
        "    res = [0]\n",
        "    D = self.discriminant()\n",
        "    assert(D < 0)\n",
        "    i = 1\n",
        "    while i * i <= -D:\n",
        "      if(-D % (i * i) == 0):\n",
        "        res.append(i)\n",
        "      i += 1\n",
        "    return res\n",
        "\n",
        "  def find_x(self, y):\n",
        "    res = []\n",
        "    a = self._a\n",
        "    b = self._b\n",
        "    c = self._c - y * y\n",
        "    for d in divisors(abs(c)):\n",
        "      if(d * d * d + a * d * d + b * d + c == 0):\n",
        "        res.append(d)\n",
        "      if(- d * d * d + a * d * d - b * d + c == 0):\n",
        "        res.append(-d)\n",
        "    return res\n",
        "\n",
        "  def candidates(self):\n",
        "    res = []\n",
        "    for y in self.y_candidates():\n",
        "      for x in self.find_x(y):\n",
        "        res.append((x,y))\n",
        "        if(y != 0):\n",
        "          res.append((x,-y))\n",
        "    return res"
      ]
    },
    {
      "cell_type": "code",
      "source": [
        "e = EllipticCurve(0,-43,166)\n",
        "print(e.y_candidates())\n",
        "print(e.candidates())"
      ],
      "metadata": {
        "colab": {
          "base_uri": "https://localhost:8080/"
        },
        "id": "PxO49BMRjGUi",
        "outputId": "08d2669c-5df2-4dec-9f91-c3cda98cbc4e"
      },
      "execution_count": 12,
      "outputs": [
        {
          "output_type": "stream",
          "name": "stdout",
          "text": [
            "[0, 1, 2, 4, 8, 16, 32, 64, 128]\n",
            "0 []\n",
            "1 []\n",
            "2 []\n",
            "4 []\n",
            "8 [3]\n",
            "16 [-5]\n",
            "32 [11]\n",
            "64 []\n",
            "128 []\n",
            "[(3, 8), (3, -8), (-5, 16), (-5, -16), (11, 32), (11, -32)]\n"
          ]
        }
      ]
    },
    {
      "cell_type": "code",
      "source": [
        "e2 = EllipticCurve(0,0,1)\n",
        "print(e2.candidates())"
      ],
      "metadata": {
        "colab": {
          "base_uri": "https://localhost:8080/"
        },
        "id": "KmJb9ZiPK6ok",
        "outputId": "ceb4bfb1-dfde-4326-8482-17e92bf17bc9"
      },
      "execution_count": 11,
      "outputs": [
        {
          "output_type": "stream",
          "name": "stdout",
          "text": [
            "0 [-1]\n",
            "1 []\n",
            "3 [2]\n",
            "[(-1, 0), (2, 3), (2, -3)]\n"
          ]
        }
      ]
    }
  ]
}