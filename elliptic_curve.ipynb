{
  "nbformat": 4,
  "nbformat_minor": 0,
  "metadata": {
    "colab": {
      "name": "elliptic_curve.ipynb",
      "provenance": [],
      "authorship_tag": "ABX9TyOfePcaMMvjFOodrOKwxN7j",
      "include_colab_link": true
    },
    "kernelspec": {
      "name": "python3",
      "display_name": "Python 3"
    },
    "language_info": {
      "name": "python"
    }
  },
  "cells": [
    {
      "cell_type": "markdown",
      "metadata": {
        "id": "view-in-github",
        "colab_type": "text"
      },
      "source": [
        "<a href=\"https://colab.research.google.com/github/HayatoYagi/Elliptic-Curves/blob/main/elliptic_curve.ipynb\" target=\"_parent\"><img src=\"https://colab.research.google.com/assets/colab-badge.svg\" alt=\"Open In Colab\"/></a>"
      ]
    },
    {
      "cell_type": "code",
      "execution_count": 1,
      "metadata": {
        "id": "LJYEUPIPhP_s"
      },
      "outputs": [],
      "source": [
        "import math\n",
        "\n",
        "def divisors(n):\n",
        "    res = []\n",
        "    i = 1\n",
        "    while(i * i < n):\n",
        "        if n % i == 0:\n",
        "            res.append(i)\n",
        "            res.append(n // i)\n",
        "        i += 1\n",
        "    if i * i == n:\n",
        "        res.append(i)\n",
        "    return res\n",
        "\n",
        "class EllipticCurve:\n",
        "    \"\"\"\n",
        "    y^2 = f(x) := x^3 + ax^2 + bx + c (a,b,c: 整数)\n",
        "    \"\"\"\n",
        "    def __init__(self, a, b, c):\n",
        "        self._a = a\n",
        "        self._b = b\n",
        "        self._c = c\n",
        "\n",
        "        # discriminant\n",
        "        self._D = (-4 * self._a * self._a * self._a * self._c\n",
        "                    + self._a * self._a * self._b * self._b\n",
        "                    + 18 * self._a * self._b * self._c\n",
        "                    - 4 * self._b * self._b * self._b\n",
        "                    - 27 * self._c * self._c)\n",
        "        assert(self._D != 0)\n",
        "    \n",
        "    def f(self, x):\n",
        "        return (x * x * x\n",
        "                + self._a * x * x\n",
        "                + self._b * x\n",
        "                + self._c)\n",
        "        \n",
        "    def f_prime(self, x):\n",
        "        return (3 * x * x\n",
        "                + 2 * self._a * x\n",
        "                + self._b)\n",
        "\n",
        "    def torsion_candidates(self):\n",
        "        \"\"\"\n",
        "        有限位数の有理点の候補を返す。\n",
        "        必要条件しか確認していないことに注意。\n",
        "        \"\"\"\n",
        "        def y_candidates():\n",
        "            res = [0]\n",
        "            D = abs(self._D)\n",
        "            i = 1\n",
        "            while i * i <= D:\n",
        "                if(D % (i * i) == 0):\n",
        "                    res.append(i)\n",
        "                i += 1\n",
        "            return res\n",
        "\n",
        "        def find_x(y):\n",
        "            res = []\n",
        "            a = self._a\n",
        "            b = self._b\n",
        "            c = self._c - y * y\n",
        "            if c == 0:\n",
        "                res.append(0)\n",
        "                if b == 0:\n",
        "                    if(a != 0):\n",
        "                        res.append(-a)\n",
        "                else:\n",
        "                    for d in divisors(abs(b)):\n",
        "                        if(d * d + a * d + b == 0):\n",
        "                            res.append(d)\n",
        "                        if(d * d - a * d + b == 0):\n",
        "                            res.append(-d)\n",
        "            else:\n",
        "                for d in divisors(abs(c)):\n",
        "                    if(d * d * d + a * d * d + b * d + c == 0):\n",
        "                        res.append(d)\n",
        "                    if(- d * d * d + a * d * d - b * d + c == 0):\n",
        "                        res.append(-d)\n",
        "            return res\n",
        "\n",
        "        res = []\n",
        "        for y in y_candidates():\n",
        "            for x in find_x(y):\n",
        "                res.append((x,y))\n",
        "                if(y != 0):\n",
        "                    res.append((x,-y))\n",
        "        return res\n",
        "    \n",
        "    def double_x(self, x):\n",
        "        \"\"\"\n",
        "        入力された曲線上の整数点のx座標に対し、その点を2倍した点のx座標とそれが整数かどうかを返す。\n",
        "        \"\"\"\n",
        "        numer = (x * x * x * x\n",
        "                 - 2 * self._b * x * x\n",
        "                 - 8 * self._c * x\n",
        "                 + self._b * self._b\n",
        "                 - 4 * self._a * self._c)\n",
        "        denom = 4 * self.f(x)\n",
        "        if(denom == 0):\n",
        "            return (math.inf, True)\n",
        "        else:\n",
        "            return (numer / denom, numer % denom == 0)\n",
        "\n",
        "    def add(self, p1, p2):\n",
        "        if math.isinf(p1[0]):\n",
        "            # todo\n",
        "            return (-math.inf,-math.inf)\n",
        "        x1,y1 = p1\n",
        "        x2,y2 = p2\n",
        "        if x1 == x2:\n",
        "            if y1 == y2:\n",
        "                if y1 == 0:\n",
        "                    return (math.inf, math.inf)\n",
        "                else:\n",
        "                    la = self.f_prime(x1) / 2 / y1\n",
        "                    nu = y1 - la * x1\n",
        "                    x3, _ = self.double_x(x1)\n",
        "                    y3 = la * x3 + nu\n",
        "                    return (x3, -y3)\n",
        "            else:\n",
        "                return (math.inf, math.inf)\n",
        "        else:\n",
        "            la = (y2 - y1) / (x2 - x1) # lambda\n",
        "            nu = y1 - la * x1 # nu\n",
        "            x3 = la * la - self._a - x1 - x2\n",
        "            y3 = la * x3 + nu\n",
        "            return (x3, -y3)\n",
        "\n",
        "    def scalar_multiple(self, p, n:int):\n",
        "        assert(n >= 1)\n",
        "        if(n == 1):\n",
        "            return p\n",
        "        q = self.scalar_multiple(p, n // 2)\n",
        "        q = self.add(q, q)\n",
        "        if(n % 2 == 1):\n",
        "            q = self.add(q, p)\n",
        "        return q\n",
        "\n",
        "    def order(self, p):\n",
        "        q = p\n",
        "        for i in range(1,14):\n",
        "            if math.isinf(q[0]):\n",
        "                return i\n",
        "            elif not ((type(q[0]) is int) or (q[0].is_integer())):\n",
        "                return math.inf\n",
        "            q = self.add(q,p)\n",
        "        return math.inf\n"
      ]
    },
    {
      "cell_type": "code",
      "source": [
        "e1 = EllipticCurve(0,-43,166)\n",
        "\n",
        "for p in e1.torsion_candidates():\n",
        "    print(p, e1.order(p))\n",
        "\n",
        "e1.p1 = (3,8)\n",
        "for i in range(1, 8):\n",
        "    print(i, e1.scalar_multiple(e1.p1, i))\n"
      ],
      "metadata": {
        "colab": {
          "base_uri": "https://localhost:8080/"
        },
        "id": "PxO49BMRjGUi",
        "outputId": "94c13209-a345-43c0-8a5f-b1d02f56dfe5"
      },
      "execution_count": 2,
      "outputs": [
        {
          "output_type": "stream",
          "name": "stdout",
          "text": [
            "(3, 8) 7\n",
            "(3, -8) 7\n",
            "(-5, 16) 7\n",
            "(-5, -16) 7\n",
            "(11, 32) 7\n",
            "(11, -32) 7\n",
            "1 (3, 8)\n",
            "2 (-5.0, -16.0)\n",
            "3 (11.0, -32.0)\n",
            "4 (11.0, 32.0)\n",
            "5 (-5.0, 16.0)\n",
            "6 (3.0, -8.0)\n",
            "7 (inf, inf)\n"
          ]
        }
      ]
    },
    {
      "cell_type": "code",
      "source": [
        "e2 = EllipticCurve(0,0,1)\n",
        "\n",
        "for p in e2.torsion_candidates():\n",
        "    print(p, e2.order(p))\n",
        "\n",
        "e2.p1 = (2,3)\n",
        "for i in range(1, 8):\n",
        "    print(i, e2.scalar_multiple(e2.p1, i))"
      ],
      "metadata": {
        "colab": {
          "base_uri": "https://localhost:8080/"
        },
        "id": "KmJb9ZiPK6ok",
        "outputId": "65476aeb-cea2-45f2-8a36-5129339d584e"
      },
      "execution_count": 3,
      "outputs": [
        {
          "output_type": "stream",
          "name": "stdout",
          "text": [
            "(-1, 0) 2\n",
            "(0, 1) 3\n",
            "(0, -1) 3\n",
            "(2, 3) 6\n",
            "(2, -3) 6\n",
            "1 (2, 3)\n",
            "2 (0.0, 1.0)\n",
            "3 (-1.0, -0.0)\n",
            "4 (0.0, -1.0)\n",
            "5 (2.0, -3.0)\n",
            "6 (inf, inf)\n",
            "7 (-inf, -inf)\n"
          ]
        }
      ]
    },
    {
      "cell_type": "code",
      "source": [
        "e3 = EllipticCurve(0,0,4)\n",
        "print(e3.torsion_candidates())\n",
        "e3.p1 = (0,2)\n",
        "e3.p2 = (0,-2)\n",
        "print(e3.add(e3.p1, e3.p1))\n",
        "print(e3.add(e3.p1, e3.p2))\n",
        "for i in range(1,6):\n",
        "    print(i, e3.scalar_multiple(e3.p1, i))"
      ],
      "metadata": {
        "id": "HE01ia1H1UBU",
        "outputId": "f158fb30-f8bf-4c0a-8f1f-c697f22984c9",
        "colab": {
          "base_uri": "https://localhost:8080/"
        }
      },
      "execution_count": 4,
      "outputs": [
        {
          "output_type": "stream",
          "name": "stdout",
          "text": [
            "[(0, 2), (0, -2)]\n",
            "(0.0, -2.0)\n",
            "(inf, inf)\n",
            "1 (0, 2)\n",
            "2 (0.0, -2.0)\n",
            "3 (inf, inf)\n",
            "4 (0.0, 2.0)\n",
            "5 (0.0, -2.0)\n"
          ]
        }
      ]
    },
    {
      "cell_type": "code",
      "source": [
        "e4 = EllipticCurve(0,-4,0)\n",
        "\n",
        "for p in e4.torsion_candidates():\n",
        "    print(p, e4.order(p))\n",
        "\n",
        "e4.p1 = (2,0)\n",
        "for i in range(1, 8):\n",
        "    print(i, e4.scalar_multiple(e4.p1, i))"
      ],
      "metadata": {
        "id": "QCcq7YbM_ifX",
        "outputId": "10d1f49e-c975-4d41-fbd6-6c8cc6ab6010",
        "colab": {
          "base_uri": "https://localhost:8080/"
        }
      },
      "execution_count": 5,
      "outputs": [
        {
          "output_type": "stream",
          "name": "stdout",
          "text": [
            "(0, 0) 2\n",
            "(2, 0) 2\n",
            "(-2, 0) 2\n",
            "1 (2, 0)\n",
            "2 (inf, inf)\n",
            "3 (-inf, -inf)\n",
            "4 (-inf, -inf)\n",
            "5 (-inf, -inf)\n",
            "6 (-inf, -inf)\n",
            "7 (-inf, -inf)\n"
          ]
        }
      ]
    }
  ]
}