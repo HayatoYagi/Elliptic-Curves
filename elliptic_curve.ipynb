{
  "nbformat": 4,
  "nbformat_minor": 0,
  "metadata": {
    "colab": {
      "name": "elliptic_curve.ipynb",
      "provenance": [],
      "authorship_tag": "ABX9TyNF5Upty2Tgp75+utM+MIUQ",
      "include_colab_link": true
    },
    "kernelspec": {
      "name": "python3",
      "display_name": "Python 3"
    },
    "language_info": {
      "name": "python"
    }
  },
  "cells": [
    {
      "cell_type": "markdown",
      "metadata": {
        "id": "view-in-github",
        "colab_type": "text"
      },
      "source": [
        "<a href=\"https://colab.research.google.com/github/HayatoYagi/Elliptic-Curves/blob/main/elliptic_curve.ipynb\" target=\"_parent\"><img src=\"https://colab.research.google.com/assets/colab-badge.svg\" alt=\"Open In Colab\"/></a>"
      ]
    },
    {
      "cell_type": "code",
      "execution_count": 24,
      "metadata": {
        "id": "LJYEUPIPhP_s"
      },
      "outputs": [],
      "source": [
        "def divisors(n):\n",
        "    res = []\n",
        "    i = 1\n",
        "    while(i * i < n):\n",
        "        if n % i == 0:\n",
        "            res.append(i)\n",
        "            res.append(n // i)\n",
        "        i += 1\n",
        "    if i * i == n:\n",
        "        res.append(i)\n",
        "    return res\n",
        "\n",
        "class EllipticCurve:\n",
        "    def __init__(self, a, b, c):\n",
        "        self._a = a\n",
        "        self._b = b\n",
        "        self._c = c\n",
        "    \n",
        "    def discriminant(self):\n",
        "        return (-4 * self._a * self._a * self._a * self._c\n",
        "                + self._a * self._a * self._b * self._b\n",
        "                + 18 * self._a * self._b * self._c\n",
        "                - 4 * self._b * self._b * self._b\n",
        "                - 27 * self._c * self._c)\n",
        "\n",
        "    def torsion_candidates(self):\n",
        "        \"\"\"\n",
        "        有限位数の有理点の候補を返す。\n",
        "        必要条件しか確認していないことに注意。\n",
        "        \"\"\"\n",
        "        def y_candidates():\n",
        "            res = [0]\n",
        "            D = self.discriminant()\n",
        "            assert(D < 0)\n",
        "            i = 1\n",
        "            while i * i <= -D:\n",
        "                if(-D % (i * i) == 0):\n",
        "                    res.append(i)\n",
        "                i += 1\n",
        "            return res\n",
        "\n",
        "        def find_x(y):\n",
        "            res = []\n",
        "            a = self._a\n",
        "            b = self._b\n",
        "            c = self._c - y * y\n",
        "            if c == 0:\n",
        "                res.append(0)\n",
        "                if b == 0:\n",
        "                    if(a != 0):\n",
        "                        res.append(-a)\n",
        "                else:\n",
        "                    for d in divisors(abs(b)):\n",
        "                        if(d * d + a * d + b == 0):\n",
        "                            res.append(d)\n",
        "                        if(d * d - a * d + b == 0):\n",
        "                            res.append(-d)\n",
        "            else:\n",
        "                for d in divisors(abs(c)):\n",
        "                    if(d * d * d + a * d * d + b * d + c == 0):\n",
        "                        res.append(d)\n",
        "                    if(- d * d * d + a * d * d - b * d + c == 0):\n",
        "                        res.append(-d)\n",
        "            return res\n",
        "\n",
        "        res = []\n",
        "        for y in y_candidates():\n",
        "            print(y, find_x(y))\n",
        "            for x in find_x(y):\n",
        "                res.append((x,y))\n",
        "                if(y != 0):\n",
        "                    res.append((x,-y))\n",
        "        return res\n",
        "    \n",
        "    def double_x(self, x):\n",
        "        \"\"\"\n",
        "        入力された曲線上の整数点のx座標に対し、その点を2倍した点のx座標とそれが整数かどうかを返す。\n",
        "        \"\"\"\n",
        "        numer = (x * x * x * x\n",
        "                 - 2 * self._b * x * x\n",
        "                 - 8 * self._c * x\n",
        "                 + self._b * self._b\n",
        "                 - 4 * self._a * self._c)\n",
        "        denom = 4 * (x * x * x\n",
        "                     + self._a * x * x\n",
        "                     + self._b * x\n",
        "                     + self._c)\n",
        "        return (numer / denom, numer % denom == 0)"
      ]
    },
    {
      "cell_type": "code",
      "source": [
        "e1 = EllipticCurve(0,-43,166)\n",
        "print(e1.torsion_candidates())"
      ],
      "metadata": {
        "colab": {
          "base_uri": "https://localhost:8080/"
        },
        "id": "PxO49BMRjGUi",
        "outputId": "66dc92b1-9eb7-4b55-bd1e-df39f83dcd7b"
      },
      "execution_count": 18,
      "outputs": [
        {
          "output_type": "stream",
          "name": "stdout",
          "text": [
            "0 []\n",
            "1 []\n",
            "2 []\n",
            "4 []\n",
            "8 [3]\n",
            "16 [-5]\n",
            "32 [11]\n",
            "64 []\n",
            "128 []\n",
            "[(3, 8), (3, -8), (-5, 16), (-5, -16), (11, 32), (11, -32)]\n"
          ]
        }
      ]
    },
    {
      "cell_type": "code",
      "source": [
        "print(e1.double_x(11))"
      ],
      "metadata": {
        "id": "xQfWmpSSV4kO",
        "outputId": "efebcb93-b291-4816-86e6-466b83c5cb25",
        "colab": {
          "base_uri": "https://localhost:8080/"
        }
      },
      "execution_count": 21,
      "outputs": [
        {
          "output_type": "stream",
          "name": "stdout",
          "text": [
            "(3.0, True)\n"
          ]
        }
      ]
    },
    {
      "cell_type": "code",
      "source": [
        "e2 = EllipticCurve(0,0,1)\n",
        "print(e2.torsion_candidates())\n",
        "print(e2.double_x(2))"
      ],
      "metadata": {
        "colab": {
          "base_uri": "https://localhost:8080/"
        },
        "id": "KmJb9ZiPK6ok",
        "outputId": "3b0f5491-e693-4b2d-fac5-818ca7e52707"
      },
      "execution_count": 25,
      "outputs": [
        {
          "output_type": "stream",
          "name": "stdout",
          "text": [
            "0 [-1]\n",
            "1 [0]\n",
            "3 [2]\n",
            "[(-1, 0), (0, 1), (0, -1), (2, 3), (2, -3)]\n",
            "(0.0, True)\n"
          ]
        }
      ]
    }
  ]
}