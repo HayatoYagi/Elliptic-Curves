{
  "nbformat": 4,
  "nbformat_minor": 0,
  "metadata": {
    "colab": {
      "provenance": [],
      "authorship_tag": "ABX9TyPknUjYYfo+WbTOTtD71Lz+",
      "include_colab_link": true
    },
    "kernelspec": {
      "name": "python3",
      "display_name": "Python 3"
    },
    "language_info": {
      "name": "python"
    }
  },
  "cells": [
    {
      "cell_type": "markdown",
      "metadata": {
        "id": "view-in-github",
        "colab_type": "text"
      },
      "source": [
        "<a href=\"https://colab.research.google.com/github/HayatoYagi/Elliptic-Curves/blob/main/Pollard_p_1_factorization.ipynb\" target=\"_parent\"><img src=\"https://colab.research.google.com/assets/colab-badge.svg\" alt=\"Open In Colab\"/></a>"
      ]
    },
    {
      "cell_type": "code",
      "execution_count": 5,
      "metadata": {
        "id": "m-5twumTLW0i"
      },
      "outputs": [],
      "source": [
        "import math\n",
        "\n",
        "def factorize(n, a = 2, max_d = 7):\n",
        "    for d in range(2,max_d+1):\n",
        "        a = pow(a,d,n)\n",
        "        g = math.gcd(a-1,n)\n",
        "        print('d: ' + str(d))\n",
        "        print('2 ^ (d!) = ' + str(a))\n",
        "        print('gcd(2 ^ (d!) - 1, n) = ' + str(g))\n",
        "        if 1 < g < n:\n",
        "            print(\"Success: n = \" + str(g) + ' * ' + str(n // g))\n",
        "            return g;\n",
        "        if g == n:\n",
        "            print('Failure')\n",
        "        print('----------')"
      ]
    },
    {
      "cell_type": "code",
      "source": [
        "n = 246082373\n",
        "factorize(n)"
      ],
      "metadata": {
        "colab": {
          "base_uri": "https://localhost:8080/"
        },
        "id": "tQQCqSlFNfAp",
        "outputId": "64aaeae2-9e0d-41a6-8688-9e02a5ac9601"
      },
      "execution_count": 6,
      "outputs": [
        {
          "output_type": "stream",
          "name": "stdout",
          "text": [
            "d: 2\n",
            "2 ^ (d!) = 4\n",
            "gcd(2 ^ (d!) - 1, n) = 1\n",
            "----------\n",
            "d: 3\n",
            "2 ^ (d!) = 64\n",
            "gcd(2 ^ (d!) - 1, n) = 1\n",
            "----------\n",
            "d: 4\n",
            "2 ^ (d!) = 16777216\n",
            "gcd(2 ^ (d!) - 1, n) = 1\n",
            "----------\n",
            "d: 5\n",
            "2 ^ (d!) = 153677509\n",
            "gcd(2 ^ (d!) - 1, n) = 1\n",
            "----------\n",
            "d: 6\n",
            "2 ^ (d!) = 165719957\n",
            "gcd(2 ^ (d!) - 1, n) = 1\n",
            "----------\n",
            "d: 7\n",
            "2 ^ (d!) = 101220672\n",
            "gcd(2 ^ (d!) - 1, n) = 2521\n",
            "Success: n = 2521 * 97613\n"
          ]
        },
        {
          "output_type": "execute_result",
          "data": {
            "text/plain": [
              "2521"
            ]
          },
          "metadata": {},
          "execution_count": 6
        }
      ]
    },
    {
      "cell_type": "code",
      "source": [
        "n = 561\n",
        "factorize(n)"
      ],
      "metadata": {
        "colab": {
          "base_uri": "https://localhost:8080/"
        },
        "id": "WdGreyH9OYXf",
        "outputId": "4a26bc0a-88ab-45c9-b069-a14fc4fb1965"
      },
      "execution_count": 7,
      "outputs": [
        {
          "output_type": "stream",
          "name": "stdout",
          "text": [
            "d: 2\n",
            "2 ^ (d!) = 4\n",
            "gcd(2 ^ (d!) - 1, n) = 3\n",
            "Success: n = 3 * 187\n"
          ]
        },
        {
          "output_type": "execute_result",
          "data": {
            "text/plain": [
              "3"
            ]
          },
          "metadata": {},
          "execution_count": 7
        }
      ]
    }
  ]
}