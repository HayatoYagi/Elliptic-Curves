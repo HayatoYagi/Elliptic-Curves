{
  "nbformat": 4,
  "nbformat_minor": 0,
  "metadata": {
    "colab": {
      "provenance": [],
      "authorship_tag": "ABX9TyOYsBRaTEp5UsYPatBDTzcU",
      "include_colab_link": true
    },
    "kernelspec": {
      "name": "python3",
      "display_name": "Python 3"
    },
    "language_info": {
      "name": "python"
    }
  },
  "cells": [
    {
      "cell_type": "markdown",
      "metadata": {
        "id": "view-in-github",
        "colab_type": "text"
      },
      "source": [
        "<a href=\"https://colab.research.google.com/github/HayatoYagi/Elliptic-Curves/blob/main/Pollard_p-1_factorization.ipynb\" target=\"_parent\"><img src=\"https://colab.research.google.com/assets/colab-badge.svg\" alt=\"Open In Colab\"/></a>"
      ]
    },
    {
      "cell_type": "code",
      "execution_count": 8,
      "metadata": {
        "id": "m-5twumTLW0i"
      },
      "outputs": [],
      "source": [
        "import math\n",
        "\n",
        "def factorize(n, a = 2, max_d = 7):\n",
        "    for d in range(2,max_d+1):\n",
        "        a = pow(a,d,n)\n",
        "        g = math.gcd(a-1,n)\n",
        "        print('d: ' + str(d))\n",
        "        print('a ^ (d!) = ' + str(a))\n",
        "        print('gcd(a ^ (d!) - 1, n) = ' + str(g))\n",
        "        if 1 < g < n:\n",
        "            print(\"Success: n = \" + str(g) + ' * ' + str(n // g))\n",
        "            return g;\n",
        "        if g == n:\n",
        "            print('Failure')\n",
        "            return\n",
        "        print('----------')"
      ]
    },
    {
      "cell_type": "code",
      "source": [
        "n = 246082373\n",
        "factorize(n)"
      ],
      "metadata": {
        "colab": {
          "base_uri": "https://localhost:8080/"
        },
        "id": "tQQCqSlFNfAp",
        "outputId": "d74b29fb-c0b2-4450-9b38-d38c0f6b0b94"
      },
      "execution_count": 10,
      "outputs": [
        {
          "output_type": "stream",
          "name": "stdout",
          "text": [
            "d: 2\n",
            "a ^ (d!) = 4\n",
            "gcd(a ^ (d!) - 1, n) = 1\n",
            "----------\n",
            "d: 3\n",
            "a ^ (d!) = 64\n",
            "gcd(a ^ (d!) - 1, n) = 1\n",
            "----------\n",
            "d: 4\n",
            "a ^ (d!) = 16777216\n",
            "gcd(a ^ (d!) - 1, n) = 1\n",
            "----------\n",
            "d: 5\n",
            "a ^ (d!) = 153677509\n",
            "gcd(a ^ (d!) - 1, n) = 1\n",
            "----------\n",
            "d: 6\n",
            "a ^ (d!) = 165719957\n",
            "gcd(a ^ (d!) - 1, n) = 1\n",
            "----------\n",
            "d: 7\n",
            "a ^ (d!) = 101220672\n",
            "gcd(a ^ (d!) - 1, n) = 2521\n",
            "Success: n = 2521 * 97613\n"
          ]
        },
        {
          "output_type": "execute_result",
          "data": {
            "text/plain": [
              "2521"
            ]
          },
          "metadata": {},
          "execution_count": 10
        }
      ]
    },
    {
      "cell_type": "code",
      "source": [
        "n = 561\n",
        "factorize(n)"
      ],
      "metadata": {
        "colab": {
          "base_uri": "https://localhost:8080/"
        },
        "id": "WdGreyH9OYXf",
        "outputId": "6c7fb66b-f283-4069-806c-722b1abf0376"
      },
      "execution_count": 11,
      "outputs": [
        {
          "output_type": "stream",
          "name": "stdout",
          "text": [
            "d: 2\n",
            "a ^ (d!) = 4\n",
            "gcd(a ^ (d!) - 1, n) = 3\n",
            "Success: n = 3 * 187\n"
          ]
        },
        {
          "output_type": "execute_result",
          "data": {
            "text/plain": [
              "3"
            ]
          },
          "metadata": {},
          "execution_count": 11
        }
      ]
    },
    {
      "cell_type": "code",
      "source": [
        "n = 65\n",
        "print('a = 2')\n",
        "factorize(n)\n",
        "print()\n",
        "print('a = 3')\n",
        "factorize(n,3)"
      ],
      "metadata": {
        "id": "0MB7FdHiQGey",
        "outputId": "010fe584-b1f7-48b4-8b80-dc81b808c86a",
        "colab": {
          "base_uri": "https://localhost:8080/"
        }
      },
      "execution_count": 9,
      "outputs": [
        {
          "output_type": "stream",
          "name": "stdout",
          "text": [
            "a = 2\n",
            "d: 2\n",
            "a ^ (d!) = 4\n",
            "gcd(a ^ (d!) - 1, n) = 1\n",
            "----------\n",
            "d: 3\n",
            "a ^ (d!) = 64\n",
            "gcd(a ^ (d!) - 1, n) = 1\n",
            "----------\n",
            "d: 4\n",
            "a ^ (d!) = 1\n",
            "gcd(a ^ (d!) - 1, n) = 65\n",
            "Failure\n",
            "\n",
            "a = 3\n",
            "d: 2\n",
            "a ^ (d!) = 9\n",
            "gcd(a ^ (d!) - 1, n) = 1\n",
            "----------\n",
            "d: 3\n",
            "a ^ (d!) = 14\n",
            "gcd(a ^ (d!) - 1, n) = 13\n",
            "Success: n = 13 * 5\n"
          ]
        },
        {
          "output_type": "execute_result",
          "data": {
            "text/plain": [
              "13"
            ]
          },
          "metadata": {},
          "execution_count": 9
        }
      ]
    }
  ]
}